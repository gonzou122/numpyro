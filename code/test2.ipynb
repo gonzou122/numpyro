{
 "cells": [
  {
   "cell_type": "code",
   "execution_count": 4,
   "id": "4f22df65-9806-4324-80eb-085d0727629d",
   "metadata": {},
   "outputs": [],
   "source": [
    "import numpy as np\n",
    "import numpyro\n",
    "import numpyro.distributions as dist\n",
    "from numpyro.infer.reparam import TransformReparam"
   ]
  },
  {
   "cell_type": "code",
   "execution_count": 3,
   "id": "661a3f65-f00c-4e11-bb02-3aaeca0d9048",
   "metadata": {},
   "outputs": [],
   "source": [
    "J = 8\n",
    "y = np.array([28.0, 8.0, -3.0, 7.0, -1.0, 1.0, 18.0, 12.0])\n",
    "sigma = np.array([15.0, 10.0, 16.0, 11.0, 9.0, 11.0, 10.0, 18.0])"
   ]
  },
  {
   "cell_type": "code",
   "execution_count": 5,
   "id": "82f94b93-489f-4900-b64f-f8606699397a",
   "metadata": {},
   "outputs": [],
   "source": [
    "def eight_schools_noncentered(J, sigma, y=None):\n",
    "    mu = numpyro.sample('mu', dist.Normal(0, 5))\n",
    "    tau = numpyro.sample('tau', dist.HalfCauchy(5))\n",
    "    with numpyro.plate('J', J):\n",
    "        with numpyro.handlers.reparam(config={'theta': TransformReparam()}):\n",
    "            theta = numpyro.sample(\n",
    "                'theta',\n",
    "                 dist.TransformedDistribution(dist.Normal(0., 1.),\n",
    "                                              dist.transforms.AffineTransform(mu, tau)))\n",
    "        numpyro.sample('obs', dist.Normal(theta, sigma), obs=y)"
   ]
  },
  {
   "cell_type": "code",
   "execution_count": 7,
   "id": "05e17c4c-9d63-4afc-a781-b47f0df8b74b",
   "metadata": {},
   "outputs": [],
   "source": [
    "from jax import random\n",
    "from numpyro.infer import MCMC, NUTS"
   ]
  },
  {
   "cell_type": "code",
   "execution_count": 8,
   "id": "8d708cba-d84e-4e37-8bdc-0ca28b2af956",
   "metadata": {},
   "outputs": [],
   "source": [
    "nuts_kernel = NUTS(eight_schools_noncentered)"
   ]
  },
  {
   "cell_type": "code",
   "execution_count": 9,
   "id": "b3c95534-df82-4ac0-afa6-58c627904d07",
   "metadata": {},
   "outputs": [],
   "source": [
    "mcmc = MCMC(nuts_kernel, num_warmup=500, num_samples=1000)"
   ]
  },
  {
   "cell_type": "code",
   "execution_count": 10,
   "id": "972e5312-b28c-41f9-b884-8591a518b7bc",
   "metadata": {},
   "outputs": [],
   "source": [
    "rng_key = random.PRNGKey(0)"
   ]
  },
  {
   "cell_type": "code",
   "execution_count": null,
   "id": "1747fd53-7770-482c-b863-fbcc6544cd42",
   "metadata": {},
   "outputs": [
    {
     "name": "stderr",
     "output_type": "stream",
     "text": [
      "sample:  53% 797/1500 [00:20<00:12, 54.33it/s, 7 steps of size 4.67e-01. acc. prob=0.91] "
     ]
    }
   ],
   "source": [
    "mcmc.run(rng_key, J, sigma, y=y, extra_fields=('potential_energy',))"
   ]
  },
  {
   "cell_type": "code",
   "execution_count": 3,
   "id": "868beac5-7568-4868-b5ff-a6d01ae157a3",
   "metadata": {},
   "outputs": [],
   "source": [
    "data = pd.DataFrame({   \n",
    "    'yield':[7, 13, 13, 11, 5, 6, 8, 11, 10, 11,\n",
    "             11, 11, 11, 14, 8, 15, 10, 9, 13, 12,\n",
    "             8, 15, 7, 11, 5, 11, 15, 10, 13, 9,\n",
    "             8, 12, 13, 6, 8, 5, 13, 8, 5, 10,\n",
    "             18, 9, 7, 12, 11, 5, 9, 10, 13, 13,\n",
    "             7, 12, 8, 16, 10, 6, 12, 13, 10, 12, \n",
    "             9, 7, 12, 11, 8, 15, 13, 11, 9, 17,\n",
    "             11, 10, 15, 19 ,11, 13, 12, 9, 10,10],\n",
    "\n",
    "    'group':[0,0,0,0,0,0,0,0,0,0,\n",
    "             0,0,0,0,0,0,0,0,0,0,\n",
    "             0,0,0,0,0,0,0,0,0,0,\n",
    "             0,0,0,0,0,0,0,0,0,0,\n",
    "             0,0,0,0,0,0,0,0,0,0,\n",
    "             1,1,1,1,1,1,1,1,1,1,\n",
    "             1,1,1,1,1,1,1,1,1,1,\n",
    "             1,1,1,1,1,1,1,1,1,1,\n",
    "             ]    \n",
    "})"
   ]
  }
 ],
 "metadata": {
  "kernelspec": {
   "display_name": "Python 3 (ipykernel)",
   "language": "python",
   "name": "python3"
  },
  "language_info": {
   "codemirror_mode": {
    "name": "ipython",
    "version": 3
   },
   "file_extension": ".py",
   "mimetype": "text/x-python",
   "name": "python",
   "nbconvert_exporter": "python",
   "pygments_lexer": "ipython3",
   "version": "3.8.10"
  }
 },
 "nbformat": 4,
 "nbformat_minor": 5
}

{
 "cells": [
  {
   "cell_type": "code",
   "execution_count": 1,
   "id": "87dbaabd-4570-4cff-9fa3-8bab9b048d1d",
   "metadata": {},
   "outputs": [],
   "source": [
    "import numpy as np"
   ]
  },
  {
   "cell_type": "code",
   "execution_count": 5,
   "id": "af39140f-08ea-4392-9b85-95afde40966a",
   "metadata": {},
   "outputs": [],
   "source": [
    "import numpyro\n",
    "import numpyro.distributions as dist"
   ]
  },
  {
   "cell_type": "code",
   "execution_count": 6,
   "id": "074ad59f-6acf-4ab0-89bb-a265f0dccacd",
   "metadata": {},
   "outputs": [],
   "source": [
    "def eight_schools(J, sigma, y=None):\n",
    "    mu = numpyro.sample('mu', dist.Normal(0, 5))\n",
    "    tau = numpyro.sample('tau', dist.HalfCauchy(5))\n",
    "    with numpyro.plate('J', J):\n",
    "        theta = numpyro.sample('theta', dist.Normal(mu, tau))\n",
    "        numpyro.sample('obs', dist.Normal(theta, sigma), obs=y)"
   ]
  },
  {
   "cell_type": "code",
   "execution_count": 7,
   "id": "be9368a3-3127-4a31-8d85-9a98c73856d4",
   "metadata": {},
   "outputs": [],
   "source": [
    "from jax import random"
   ]
  },
  {
   "cell_type": "code",
   "execution_count": 8,
   "id": "97c64678-7bbd-41e9-8747-48e223ffe80a",
   "metadata": {},
   "outputs": [],
   "source": [
    "from numpyro.infer import MCMC, NUTS"
   ]
  },
  {
   "cell_type": "code",
   "execution_count": 9,
   "id": "d7b7b524-6e38-4fde-ab19-464764ba0820",
   "metadata": {},
   "outputs": [],
   "source": [
    "nuts_kernel = NUTS(eight_schools)"
   ]
  },
  {
   "cell_type": "code",
   "execution_count": 13,
   "id": "833cc05b-106b-4b49-9fd4-2e4f41f741d9",
   "metadata": {},
   "outputs": [],
   "source": [
    "J = 8\n",
    "y = np.array([28.0, 8.0, -3.0, 7.0, -1.0, 1.0, 18.0, 12.0])\n",
    "sigma = np.array([15.0, 10.0, 16.0, 11.0, 9.0, 11.0, 10.0, 18.0])"
   ]
  },
  {
   "cell_type": "code",
   "execution_count": 10,
   "id": "5fbcf8a8-3a84-4adc-8fee-53277bdd783c",
   "metadata": {},
   "outputs": [],
   "source": [
    "mcmc = MCMC(nuts_kernel, num_warmup=500, num_samples=1000)"
   ]
  },
  {
   "cell_type": "code",
   "execution_count": 11,
   "id": "548beb61-bd1b-4136-a64c-122114230e8e",
   "metadata": {},
   "outputs": [],
   "source": [
    "rng_key = random.PRNGKey(0)"
   ]
  },
  {
   "cell_type": "code",
   "execution_count": 14,
   "id": "5f23888e-8a83-4708-a12e-a51b42c041cf",
   "metadata": {},
   "outputs": [
    {
     "name": "stderr",
     "output_type": "stream",
     "text": [
      "sample: 100% 1500/1500 [02:57<00:00,  8.45it/s, 63 steps of size 4.53e-02. acc. prob=0.97] \n"
     ]
    }
   ],
   "source": [
    "mcmc.run(rng_key, J, sigma, y=y, extra_fields=('potential_energy',))"
   ]
  },
  {
   "cell_type": "code",
   "execution_count": 15,
   "id": "2809478a-d718-40fc-9fd6-b51e2b37b52d",
   "metadata": {},
   "outputs": [
    {
     "name": "stdout",
     "output_type": "stream",
     "text": [
      "\n",
      "                mean       std    median      5.0%     95.0%     n_eff     r_hat\n",
      "        mu      4.57      3.53      4.36     -1.72      9.51    138.24      1.01\n",
      "       tau      3.60      3.06      2.87      0.25      7.62     91.97      1.01\n",
      "  theta[0]      6.24      5.64      5.67     -3.22     13.91    204.27      1.00\n",
      "  theta[1]      5.05      4.81      4.76     -2.75     12.11    236.71      1.00\n",
      "  theta[2]      4.14      5.24      4.10     -4.40     12.23    263.75      1.01\n",
      "  theta[3]      4.91      5.01      4.76     -3.90     12.01    247.83      1.00\n",
      "  theta[4]      3.74      5.19      3.78     -4.60     11.93    210.18      1.01\n",
      "  theta[5]      4.17      4.83      4.16     -3.79     12.05    214.35      1.01\n",
      "  theta[6]      6.62      5.07      6.33     -1.41     14.35    179.37      1.00\n",
      "  theta[7]      5.01      5.22      4.64     -3.74     12.53    239.29      1.00\n",
      "\n",
      "Number of divergences: 2\n"
     ]
    }
   ],
   "source": [
    "mcmc.print_summary() "
   ]
  },
  {
   "cell_type": "code",
   "execution_count": 16,
   "id": "961ddff3-c9de-4139-be3f-019c19dcf851",
   "metadata": {},
   "outputs": [],
   "source": [
    "pe = mcmc.get_extra_fields()['potential_energy']"
   ]
  },
  {
   "cell_type": "code",
   "execution_count": 17,
   "id": "df0719e7-86e6-40bb-a8ae-7467f16b1298",
   "metadata": {},
   "outputs": [
    {
     "name": "stdout",
     "output_type": "stream",
     "text": [
      "Expected log joint density: -53.39\n"
     ]
    }
   ],
   "source": [
    "print('Expected log joint density: {:.2f}'.format(np.mean(-pe)))  "
   ]
  },
  {
   "cell_type": "code",
   "execution_count": null,
   "id": "bb17b221-7b8a-4f97-9892-6a56186acf32",
   "metadata": {},
   "outputs": [],
   "source": []
  }
 ],
 "metadata": {
  "kernelspec": {
   "display_name": "Python 3 (ipykernel)",
   "language": "python",
   "name": "python3"
  },
  "language_info": {
   "codemirror_mode": {
    "name": "ipython",
    "version": 3
   },
   "file_extension": ".py",
   "mimetype": "text/x-python",
   "name": "python",
   "nbconvert_exporter": "python",
   "pygments_lexer": "ipython3",
   "version": "3.8.10"
  }
 },
 "nbformat": 4,
 "nbformat_minor": 5
}
